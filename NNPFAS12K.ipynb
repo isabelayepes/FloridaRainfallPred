{
 "cells": [
  {
   "cell_type": "code",
   "execution_count": 1,
   "id": "1460b5d3-8a24-4022-8f49-2d0f51405f46",
   "metadata": {},
   "outputs": [],
   "source": [
    "# packages used in this tutorial \n",
    "import numpy as np\n",
    "import pandas as pd\n",
    "import matplotlib.pyplot as plt\n",
    "\n",
    "import tensorflow as tf\n",
    "from tensorflow import keras"
   ]
  },
  {
   "cell_type": "code",
   "execution_count": 2,
   "id": "af755d79-0a38-4ecb-a1f4-53a55a0060b4",
   "metadata": {},
   "outputs": [
    {
     "name": "stdout",
     "output_type": "stream",
     "text": [
      "Training set: (6209, 34)\n",
      "Testing set:  (1552, 34)\n"
     ]
    }
   ],
   "source": [
    "df = pd.read_csv('12kr2.csv')\n",
    "train = df.sample(frac=0.8, random_state=200)\n",
    "test = df.drop(train.index)\n",
    "train_data = train[['MONOISOTOPIC_MASS', 'Number of Carbons', 'Number of Fluorines',\n",
    "       'Contains N', 'Contains O',\n",
    "       'ATMOSPHERIC_HYDROXYLATION_RATE_(AOH)_CM3/MOLECULE*SEC_OPERA_PRED',\n",
    "       'BIOCONCENTRATION_FACTOR_OPERA_PRED',\n",
    "       'BOILING_POINT_DEGC_OPERA_PRED', 'HENRYS_LAW_ATM-M3/MOLE_OPERA_PRED',\n",
    "       'OPERA_KM_DAYS_OPERA_PRED',\n",
    "       'OCTANOL_AIR_PARTITION_COEFF_LOGKOA_OPERA_PRED',\n",
    "       'SOIL_ADSORPTION_COEFFICIENT_KOC_L/KG_OPERA_PRED',\n",
    "       'OCTANOL_WATER_PARTITION_LOGP_OPERA_PRED',\n",
    "       'MELTING_POINT_DEGC_OPERA_PRED', 'VAPOR_PRESSURE_MMHG_OPERA_PRED',\n",
    "       'WATER_SOLUBILITY_MOL/L_OPERA_PRED', 'Acid Group', 'Hyde Group',\n",
    "       'Carbon Ring Group', 'Alcohol Group', 'Ether Linkage',\n",
    "       'Linear Vs. Branched', 'ide', 'ate', 'ite', 'sodium', 'polymer',\n",
    "       'telomer', 'nitrile', 'Bis', 'Amide', 'Amine', 'Si', 'Sulfur',]].values.astype(float)\n",
    "train_labels = train['BIODEGRADATION_HALF_LIFE_DAYS_DAYS_OPERA_PRED'].values.astype(float) \n",
    "test_data = test[['MONOISOTOPIC_MASS', 'Number of Carbons', 'Number of Fluorines',\n",
    "       'Contains N', 'Contains O',\n",
    "       'ATMOSPHERIC_HYDROXYLATION_RATE_(AOH)_CM3/MOLECULE*SEC_OPERA_PRED',\n",
    "       'BIOCONCENTRATION_FACTOR_OPERA_PRED',\n",
    "       'BOILING_POINT_DEGC_OPERA_PRED', 'HENRYS_LAW_ATM-M3/MOLE_OPERA_PRED',\n",
    "       'OPERA_KM_DAYS_OPERA_PRED',\n",
    "       'OCTANOL_AIR_PARTITION_COEFF_LOGKOA_OPERA_PRED',\n",
    "       'SOIL_ADSORPTION_COEFFICIENT_KOC_L/KG_OPERA_PRED',\n",
    "       'OCTANOL_WATER_PARTITION_LOGP_OPERA_PRED',\n",
    "       'MELTING_POINT_DEGC_OPERA_PRED', 'VAPOR_PRESSURE_MMHG_OPERA_PRED',\n",
    "       'WATER_SOLUBILITY_MOL/L_OPERA_PRED', 'Acid Group', 'Hyde Group',\n",
    "       'Carbon Ring Group', 'Alcohol Group', 'Ether Linkage',\n",
    "       'Linear Vs. Branched', 'ide', 'ate', 'ite', 'sodium', 'polymer',\n",
    "       'telomer', 'nitrile', 'Bis', 'Amide', 'Amine', 'Si', 'Sulfur',]].values.astype(float)\n",
    "test_labels = test['BIODEGRADATION_HALF_LIFE_DAYS_DAYS_OPERA_PRED'].values.astype(float)\n",
    "\n",
    "\n",
    "# Shuffle the training set\n",
    "order = np.argsort(np.random.random(train_labels.shape))\n",
    "train_data = train_data[order]\n",
    "train_labels = train_labels[order]\n",
    "\n",
    "print(\"Training set: {}\".format(train_data.shape))  # 6209 examples, 34 features\n",
    "print(\"Testing set:  {}\".format(test_data.shape))   # 1552 examples, 34 features"
   ]
  },
  {
   "cell_type": "code",
   "execution_count": 3,
   "id": "9e5c8c00-2363-495e-aa24-6e03c5a7f060",
   "metadata": {},
   "outputs": [
    {
     "name": "stdout",
     "output_type": "stream",
     "text": [
      "[  4.75435   4.96727   4.51299   4.93944   3.55982   4.2846    4.48802\n",
      " 174.199     4.08394   3.6778    4.27795   3.67617   4.46938   4.45213\n",
      "   4.4487    4.47052   3.68053   4.47818   3.68098   4.22724]\n"
     ]
    }
   ],
   "source": [
    "print(train_labels[0:20])"
   ]
  },
  {
   "cell_type": "code",
   "execution_count": 4,
   "id": "52dbb4dc-a631-40a7-a9d4-e1f1b4f0a297",
   "metadata": {},
   "outputs": [
    {
     "name": "stdout",
     "output_type": "stream",
     "text": [
      "[ 0.28348368 -0.75842118 -0.36315786 -0.68323379 -1.6405605  -0.02500582\n",
      " -0.07369172 -0.54350136 -0.01750128 -0.6892185  -0.15811715 -0.21465323\n",
      "  0.16279931 -0.74426386 -0.0127344  -0.12007769 -0.43291608 -0.04921076\n",
      " -0.59564204 -0.43081602 -0.54328686 -0.59390514 -0.49551651 -0.48059077\n",
      " -0.04580533 -0.11710801 -0.0179504  -0.12263789 -0.1185133  -0.33781897\n",
      " -0.29946718 -0.29173636 -0.1610647  -0.43265378]\n"
     ]
    }
   ],
   "source": [
    "mean = train_data.mean(axis=0)\n",
    "std = train_data.std(axis=0)\n",
    "train_data = (train_data - mean) / std # (train_data - min) / (max-min) \n",
    "test_data = (test_data - mean) / std\n",
    "\n",
    "print(train_data[0])  # First training sample, normalized"
   ]
  },
  {
   "cell_type": "code",
   "execution_count": 5,
   "id": "6be09ea3-39e4-4c59-a8c9-8fd542fc3861",
   "metadata": {},
   "outputs": [
    {
     "name": "stderr",
     "output_type": "stream",
     "text": [
      "2022-01-15 19:05:14.561455: I tensorflow/core/platform/cpu_feature_guard.cc:151] This TensorFlow binary is optimized with oneAPI Deep Neural Network Library (oneDNN) to use the following CPU instructions in performance-critical operations:  AVX2 FMA\n",
      "To enable them in other operations, rebuild TensorFlow with the appropriate compiler flags.\n"
     ]
    },
    {
     "name": "stdout",
     "output_type": "stream",
     "text": [
      "Model: \"sequential\"\n",
      "_________________________________________________________________\n",
      " Layer (type)                Output Shape              Param #   \n",
      "=================================================================\n",
      " hidden_layer_1 (Dense)      (None, 128)               4480      \n",
      "                                                                 \n",
      " hidden_layer_2 (Dense)      (None, 128)               16512     \n",
      "                                                                 \n",
      " hidden_layer_3 (Dense)      (None, 128)               16512     \n",
      "                                                                 \n",
      " output_layer (Dense)        (None, 1)                 129       \n",
      "                                                                 \n",
      "=================================================================\n",
      "Total params: 37,633\n",
      "Trainable params: 37,633\n",
      "Non-trainable params: 0\n",
      "_________________________________________________________________\n"
     ]
    }
   ],
   "source": [
    "# Define basic architecture\n",
    "model = keras.Sequential([\n",
    "    keras.layers.Dense(128, activation=tf.nn.relu, #activation=tf.keras.activations.linear,\n",
    "                       input_shape=(train_data.shape[1],),\n",
    "                       name='hidden_layer_1',),\n",
    "    keras.layers.Dense(128, activation=tf.nn.relu,\n",
    "                       name='hidden_layer_2',),\n",
    "    keras.layers.Dense(128, activation=tf.nn.relu,\n",
    "                       name='hidden_layer_3',),\n",
    "    #keras.layers.Dense(16, activation=tf.nn.relu,\n",
    "    #                   input_shape=(16,),\n",
    "    #                   name='hidden_layer_2',),\n",
    "    keras.layers.Dense(1, name='output_layer',)\n",
    "])\n",
    "\n",
    "# Define your optimizer asdf\n",
    "#optimizer = tf.train.AdamOptimizer()\n",
    "optimizer = tf.optimizers.Adam()\n",
    "\n",
    "model.compile(loss='mse',\n",
    "            optimizer=optimizer,\n",
    "            metrics=['mae'])\n",
    "\n",
    "# show a summary of the data\n",
    "model.summary()"
   ]
  },
  {
   "cell_type": "code",
   "execution_count": 6,
   "id": "d07b98f7-7260-4ba8-85e5-1a88eb446a86",
   "metadata": {},
   "outputs": [],
   "source": [
    "# Display training progress by printing a single dot for each completed epoch\n",
    "class PrintDot(keras.callbacks.Callback):\n",
    "    def on_epoch_end(self, epoch, logs):\n",
    "        if epoch % 100 == 0: print('')\n",
    "        print('.', end='')\n",
    "        \n",
    "# Function to plot how the model is doing during training\n",
    "# Visualize the model's training progress using the stats stored in the history object. \n",
    "# We want to use this data to determine how long to train before the model stops making progress.\n",
    "def plot_history(history):\n",
    "    plt.figure()\n",
    "    plt.xlabel('Epoch')\n",
    "    plt.ylabel('Mean Abs Error [Days]')\n",
    "    plt.plot(history.epoch, np.array(history.history['loss']),\n",
    "           label='Train Loss')\n",
    "    plt.plot(history.epoch, np.array(history.history['val_loss']),\n",
    "           label = 'Val loss')\n",
    "    plt.legend()\n",
    "    #plt.ylim([0, 5])"
   ]
  },
  {
   "cell_type": "code",
   "execution_count": 7,
   "id": "f94de38e-efbd-4af0-a9d8-fbe87a2fe65e",
   "metadata": {},
   "outputs": [
    {
     "name": "stdout",
     "output_type": "stream",
     "text": [
      "\n",
      "................................................................................................."
     ]
    },
    {
     "data": {
      "image/png": "[encoded data removed]",
      "text/plain": [
       "<Figure size 432x288 with 1 Axes>"
      ]
     },
     "metadata": {
      "needs_background": "light"
     },
     "output_type": "display_data"
    }
   ],
   "source": [
    "# If you train too long, you are prone to over-fitting\n",
    "# this prevents the model from generalizing to data it has never seen before\n",
    "# early stopping is one way to go about this\n",
    "# The patience parameter is the amount of epochs to check for improvement\n",
    "early_stop = keras.callbacks.EarlyStopping(monitor='val_loss', patience=20)\n",
    "\n",
    "# Store training stats\n",
    "history = model.fit(train_data, train_labels, epochs=1000,\n",
    "                    validation_split=0.2, verbose=0,\n",
    "                    callbacks=[early_stop, PrintDot()])\n",
    "\n",
    "plot_history(history)"
   ]
  },
  {
   "cell_type": "code",
   "execution_count": 8,
   "id": "8c57b4e7-3c7e-4169-9453-8a6d5cf7d97a",
   "metadata": {},
   "outputs": [
    {
     "name": "stdout",
     "output_type": "stream",
     "text": [
      "Testing set Mean Abs Error:    4.12 Days\n"
     ]
    }
   ],
   "source": [
    "[loss, mae] = model.evaluate(test_data, test_labels, verbose=0)\n",
    "\n",
    "print(\"Testing set Mean Abs Error: {:7.2f} Days\".format(mae))"
   ]
  },
  {
   "cell_type": "code",
   "execution_count": 9,
   "id": "80a1cf00-d273-4ab4-90c3-7f605d20053a",
   "metadata": {},
   "outputs": [
    {
     "data": {
      "image/png": "[encoded data removed]",
      "text/plain": [
       "<Figure size 432x288 with 1 Axes>"
      ]
     },
     "metadata": {
      "needs_background": "light"
     },
     "output_type": "display_data"
    }
   ],
   "source": [
    "test_predictions = model.predict(test_data).flatten()\n",
    "\n",
    "plt.scatter(test_labels, test_predictions)\n",
    "plt.xlabel('True Values [Days]')\n",
    "plt.ylabel('Predictions [Days]')\n",
    "plt.axis('equal')\n",
    "plt.xlim(plt.xlim())\n",
    "plt.ylim(plt.ylim())\n",
    "_ = plt.plot([-100, 100], [-100, 100])"
   ]
  },
  {
   "cell_type": "code",
   "execution_count": 10,
   "id": "f96e83fd-fe3d-4979-bc43-be3269176bad",
   "metadata": {},
   "outputs": [
    {
     "data": {
      "text/plain": [
       "0.731567270359499"
      ]
     },
     "execution_count": 10,
     "metadata": {},
     "output_type": "execute_result"
    }
   ],
   "source": [
    "np.corrcoef(test_labels,test_predictions)[0,1]"
   ]
  },
  {
   "cell_type": "code",
   "execution_count": 11,
   "id": "f78d6338-397e-4ada-bef5-da4b4299af97",
   "metadata": {},
   "outputs": [
    {
     "data": {
      "text/plain": [
       "0.5248423061429844"
      ]
     },
     "execution_count": 11,
     "metadata": {},
     "output_type": "execute_result"
    }
   ],
   "source": [
    "from sklearn.metrics import r2_score\n",
    "r2_score(test_labels,test_predictions)"
   ]
  },
  {
   "cell_type": "code",
   "execution_count": 12,
   "id": "563bd505-69f1-42fa-8829-cc2f9863c6a5",
   "metadata": {},
   "outputs": [
    {
     "data": {
      "image/png": "[encoded data removed]",
      "text/plain": [
       "<Figure size 432x288 with 1 Axes>"
      ]
     },
     "metadata": {
      "needs_background": "light"
     },
     "output_type": "display_data"
    }
   ],
   "source": [
    "error = test_predictions - test_labels\n",
    "plt.hist(error, bins = 50)\n",
    "plt.xlabel(\"Prediction Error [Days]\")\n",
    "_ = plt.ylabel(\"Count\")"
   ]
  },
  {
   "cell_type": "code",
   "execution_count": null,
   "id": "23a06cea-f012-477c-8910-97ff7af65639",
   "metadata": {},
   "outputs": [],
   "source": [
    "#ATTEMPT for hyperparameter optimization and cross validation, require keras classifier binary label?"
   ]
  },
  {
   "cell_type": "code",
   "execution_count": 13,
   "id": "e4c519d2-1800-4841-9ffd-3e8d6552b3f7",
   "metadata": {},
   "outputs": [],
   "source": [
    "from sklearn.model_selection import GridSearchCV"
   ]
  },
  {
   "cell_type": "code",
   "execution_count": 14,
   "id": "47ca74c3-38ce-4308-936f-0b8325f9fd29",
   "metadata": {},
   "outputs": [
    {
     "name": "stdout",
     "output_type": "stream",
     "text": [
      "{'batch_size': [10, 40, 80], 'epochs': [10, 50]}\n"
     ]
    }
   ],
   "source": [
    "# Step 3: Define the grid search parameters\n",
    "param_grid_1 = dict(batch_size=[10, 40, 80], epochs=[10, 50])\n",
    "print(param_grid_1)"
   ]
  },
  {
   "cell_type": "code",
   "execution_count": 15,
   "id": "35a73309-974c-45f5-aaeb-91c02395137d",
   "metadata": {},
   "outputs": [
    {
     "ename": "TypeError",
     "evalue": "If no scoring is specified, the estimator passed should have a 'score' method. The estimator <keras.engine.sequential.Sequential object at 0x7fa6671bb190> does not.",
     "output_type": "error",
     "traceback": [
      "\u001b[0;31m---------------------------------------------------------------------------\u001b[0m",
      "\u001b[0;31mTypeError\u001b[0m                                 Traceback (most recent call last)",
      "\u001b[0;32m/var/folders/jv/lz3tf5xn1vdbnrsqnz5bfz0r0000gn/T/ipykernel_1048/2948912329.py\u001b[0m in \u001b[0;36m<module>\u001b[0;34m\u001b[0m\n\u001b[1;32m      1\u001b[0m \u001b[0;31m# Step 4: Perform the grid search\u001b[0m\u001b[0;34m\u001b[0m\u001b[0;34m\u001b[0m\u001b[0;34m\u001b[0m\u001b[0m\n\u001b[1;32m      2\u001b[0m \u001b[0mgrid_1\u001b[0m \u001b[0;34m=\u001b[0m \u001b[0mGridSearchCV\u001b[0m\u001b[0;34m(\u001b[0m\u001b[0mestimator\u001b[0m\u001b[0;34m=\u001b[0m\u001b[0mmodel\u001b[0m\u001b[0;34m,\u001b[0m \u001b[0mparam_grid\u001b[0m\u001b[0;34m=\u001b[0m\u001b[0mparam_grid_1\u001b[0m\u001b[0;34m,\u001b[0m \u001b[0mn_jobs\u001b[0m\u001b[0;34m=\u001b[0m\u001b[0;36m1\u001b[0m\u001b[0;34m)\u001b[0m\u001b[0;34m\u001b[0m\u001b[0;34m\u001b[0m\u001b[0m\n\u001b[0;32m----> 3\u001b[0;31m \u001b[0mgrid_result_1\u001b[0m \u001b[0;34m=\u001b[0m \u001b[0mgrid_1\u001b[0m\u001b[0;34m.\u001b[0m\u001b[0mfit\u001b[0m\u001b[0;34m(\u001b[0m\u001b[0mtrain_data\u001b[0m\u001b[0;34m,\u001b[0m \u001b[0mtrain_labels\u001b[0m\u001b[0;34m)\u001b[0m\u001b[0;34m\u001b[0m\u001b[0;34m\u001b[0m\u001b[0m\n\u001b[0m",
      "\u001b[0;32m~/opt/anaconda3/envs/keras/lib/python3.7/site-packages/sklearn/utils/validation.py\u001b[0m in \u001b[0;36minner_f\u001b[0;34m(*args, **kwargs)\u001b[0m\n\u001b[1;32m     61\u001b[0m             \u001b[0mextra_args\u001b[0m \u001b[0;34m=\u001b[0m \u001b[0mlen\u001b[0m\u001b[0;34m(\u001b[0m\u001b[0margs\u001b[0m\u001b[0;34m)\u001b[0m \u001b[0;34m-\u001b[0m \u001b[0mlen\u001b[0m\u001b[0;34m(\u001b[0m\u001b[0mall_args\u001b[0m\u001b[0;34m)\u001b[0m\u001b[0;34m\u001b[0m\u001b[0;34m\u001b[0m\u001b[0m\n\u001b[1;32m     62\u001b[0m             \u001b[0;32mif\u001b[0m \u001b[0mextra_args\u001b[0m \u001b[0;34m<=\u001b[0m \u001b[0;36m0\u001b[0m\u001b[0;34m:\u001b[0m\u001b[0;34m\u001b[0m\u001b[0;34m\u001b[0m\u001b[0m\n\u001b[0;32m---> 63\u001b[0;31m                 \u001b[0;32mreturn\u001b[0m \u001b[0mf\u001b[0m\u001b[0;34m(\u001b[0m\u001b[0;34m*\u001b[0m\u001b[0margs\u001b[0m\u001b[0;34m,\u001b[0m \u001b[0;34m**\u001b[0m\u001b[0mkwargs\u001b[0m\u001b[0;34m)\u001b[0m\u001b[0;34m\u001b[0m\u001b[0;34m\u001b[0m\u001b[0m\n\u001b[0m\u001b[1;32m     64\u001b[0m \u001b[0;34m\u001b[0m\u001b[0m\n\u001b[1;32m     65\u001b[0m             \u001b[0;31m# extra_args > 0\u001b[0m\u001b[0;34m\u001b[0m\u001b[0;34m\u001b[0m\u001b[0;34m\u001b[0m\u001b[0m\n",
      "\u001b[0;32m~/opt/anaconda3/envs/keras/lib/python3.7/site-packages/sklearn/model_selection/_search.py\u001b[0m in \u001b[0;36mfit\u001b[0;34m(self, X, y, groups, **fit_params)\u001b[0m\n\u001b[1;32m    751\u001b[0m             \u001b[0mscorers\u001b[0m \u001b[0;34m=\u001b[0m \u001b[0mself\u001b[0m\u001b[0;34m.\u001b[0m\u001b[0mscoring\u001b[0m\u001b[0;34m\u001b[0m\u001b[0;34m\u001b[0m\u001b[0m\n\u001b[1;32m    752\u001b[0m         \u001b[0;32melif\u001b[0m \u001b[0mself\u001b[0m\u001b[0;34m.\u001b[0m\u001b[0mscoring\u001b[0m \u001b[0;32mis\u001b[0m \u001b[0;32mNone\u001b[0m \u001b[0;32mor\u001b[0m \u001b[0misinstance\u001b[0m\u001b[0;34m(\u001b[0m\u001b[0mself\u001b[0m\u001b[0;34m.\u001b[0m\u001b[0mscoring\u001b[0m\u001b[0;34m,\u001b[0m \u001b[0mstr\u001b[0m\u001b[0;34m)\u001b[0m\u001b[0;34m:\u001b[0m\u001b[0;34m\u001b[0m\u001b[0;34m\u001b[0m\u001b[0m\n\u001b[0;32m--> 753\u001b[0;31m             \u001b[0mscorers\u001b[0m \u001b[0;34m=\u001b[0m \u001b[0mcheck_scoring\u001b[0m\u001b[0;34m(\u001b[0m\u001b[0mself\u001b[0m\u001b[0;34m.\u001b[0m\u001b[0mestimator\u001b[0m\u001b[0;34m,\u001b[0m \u001b[0mself\u001b[0m\u001b[0;34m.\u001b[0m\u001b[0mscoring\u001b[0m\u001b[0;34m)\u001b[0m\u001b[0;34m\u001b[0m\u001b[0;34m\u001b[0m\u001b[0m\n\u001b[0m\u001b[1;32m    754\u001b[0m         \u001b[0;32melse\u001b[0m\u001b[0;34m:\u001b[0m\u001b[0;34m\u001b[0m\u001b[0;34m\u001b[0m\u001b[0m\n\u001b[1;32m    755\u001b[0m             \u001b[0mscorers\u001b[0m \u001b[0;34m=\u001b[0m \u001b[0m_check_multimetric_scoring\u001b[0m\u001b[0;34m(\u001b[0m\u001b[0mself\u001b[0m\u001b[0;34m.\u001b[0m\u001b[0mestimator\u001b[0m\u001b[0;34m,\u001b[0m \u001b[0mself\u001b[0m\u001b[0;34m.\u001b[0m\u001b[0mscoring\u001b[0m\u001b[0;34m)\u001b[0m\u001b[0;34m\u001b[0m\u001b[0;34m\u001b[0m\u001b[0m\n",
      "\u001b[0;32m~/opt/anaconda3/envs/keras/lib/python3.7/site-packages/sklearn/utils/validation.py\u001b[0m in \u001b[0;36minner_f\u001b[0;34m(*args, **kwargs)\u001b[0m\n\u001b[1;32m     61\u001b[0m             \u001b[0mextra_args\u001b[0m \u001b[0;34m=\u001b[0m \u001b[0mlen\u001b[0m\u001b[0;34m(\u001b[0m\u001b[0margs\u001b[0m\u001b[0;34m)\u001b[0m \u001b[0;34m-\u001b[0m \u001b[0mlen\u001b[0m\u001b[0;34m(\u001b[0m\u001b[0mall_args\u001b[0m\u001b[0;34m)\u001b[0m\u001b[0;34m\u001b[0m\u001b[0;34m\u001b[0m\u001b[0m\n\u001b[1;32m     62\u001b[0m             \u001b[0;32mif\u001b[0m \u001b[0mextra_args\u001b[0m \u001b[0;34m<=\u001b[0m \u001b[0;36m0\u001b[0m\u001b[0;34m:\u001b[0m\u001b[0;34m\u001b[0m\u001b[0;34m\u001b[0m\u001b[0m\n\u001b[0;32m---> 63\u001b[0;31m                 \u001b[0;32mreturn\u001b[0m \u001b[0mf\u001b[0m\u001b[0;34m(\u001b[0m\u001b[0;34m*\u001b[0m\u001b[0margs\u001b[0m\u001b[0;34m,\u001b[0m \u001b[0;34m**\u001b[0m\u001b[0mkwargs\u001b[0m\u001b[0;34m)\u001b[0m\u001b[0;34m\u001b[0m\u001b[0;34m\u001b[0m\u001b[0m\n\u001b[0m\u001b[1;32m     64\u001b[0m \u001b[0;34m\u001b[0m\u001b[0m\n\u001b[1;32m     65\u001b[0m             \u001b[0;31m# extra_args > 0\u001b[0m\u001b[0;34m\u001b[0m\u001b[0;34m\u001b[0m\u001b[0;34m\u001b[0m\u001b[0m\n",
      "\u001b[0;32m~/opt/anaconda3/envs/keras/lib/python3.7/site-packages/sklearn/metrics/_scorer.py\u001b[0m in \u001b[0;36mcheck_scoring\u001b[0;34m(estimator, scoring, allow_none)\u001b[0m\n\u001b[1;32m    451\u001b[0m                 \u001b[0;34m\"If no scoring is specified, the estimator passed should \"\u001b[0m\u001b[0;34m\u001b[0m\u001b[0;34m\u001b[0m\u001b[0m\n\u001b[1;32m    452\u001b[0m                 \u001b[0;34m\"have a 'score' method. The estimator %r does not.\"\u001b[0m\u001b[0;34m\u001b[0m\u001b[0;34m\u001b[0m\u001b[0m\n\u001b[0;32m--> 453\u001b[0;31m                 % estimator)\n\u001b[0m\u001b[1;32m    454\u001b[0m     \u001b[0;32melif\u001b[0m \u001b[0misinstance\u001b[0m\u001b[0;34m(\u001b[0m\u001b[0mscoring\u001b[0m\u001b[0;34m,\u001b[0m \u001b[0mIterable\u001b[0m\u001b[0;34m)\u001b[0m\u001b[0;34m:\u001b[0m\u001b[0;34m\u001b[0m\u001b[0;34m\u001b[0m\u001b[0m\n\u001b[1;32m    455\u001b[0m         raise ValueError(\"For evaluating multiple scores, use \"\n",
      "\u001b[0;31mTypeError\u001b[0m: If no scoring is specified, the estimator passed should have a 'score' method. The estimator <keras.engine.sequential.Sequential object at 0x7fa6671bb190> does not."
     ]
    }
   ],
   "source": [
    "# Step 4: Perform the grid search\n",
    "grid_1 = GridSearchCV(estimator=model, param_grid=param_grid_1, n_jobs=1)\n",
    "grid_result_1 = grid_1.fit(train_data, train_labels)"
   ]
  },
  {
   "cell_type": "code",
   "execution_count": null,
   "id": "44b6aa91-a967-4ee7-a3da-ca15fca19bf0",
   "metadata": {},
   "outputs": [],
   "source": [
    "# Step 5: Summarize the results\n",
    "def summarize_results(grid_result):\n",
    "    means = grid_result.cv_results_['mean_test_score']\n",
    "    params = grid_result.cv_results_['params']\n",
    "    print('Results')\n",
    "    for mean, param in zip(means, params):\n",
    "        print(f'{param} -- {mean.round(3)}')\n",
    "    print('')\n",
    "    print(f'Best: {grid_result.best_score_.round(3)} using {grid_result.best_params_}')\n",
    "summarize_results(grid_result_1)"
   ]
  },
  {
   "cell_type": "code",
   "execution_count": null,
   "id": "207f4291-7142-468a-96c2-df1364345427",
   "metadata": {},
   "outputs": [],
   "source": [
    "from keras.models import Sequential\n",
    "from keras.layers import Dense\n",
    "from keras.wrappers.scikit_learn import KerasClassifier\n",
    "from sklearn.model_selection import StratifiedKFold\n",
    "from sklearn.model_selection import cross_val_score"
   ]
  },
  {
   "cell_type": "code",
   "execution_count": null,
   "id": "9a62b735-7dd2-481d-8e61-0bbe3488174f",
   "metadata": {},
   "outputs": [],
   "source": [
    "# Define your neural network model as a function\n",
    "def create_model():\n",
    "    model = Sequential()\n",
    "    model.add(Dense(12, input_dim=8, activation='relu'))\n",
    "    model.add(Dense(8, activation='relu'))\n",
    "    model.add(Dense(1, activation='sigmoid'))\n",
    "    model.compile(loss='binary_crossentropy', optimizer='adam', metrics=['accuracy'])\n",
    "    return model"
   ]
  },
  {
   "cell_type": "code",
   "execution_count": null,
   "id": "64f97a26-65b7-4630-a177-79292038e171",
   "metadata": {},
   "outputs": [],
   "source": [
    "# Create a KerasClassifier model using your model definition function as an argument\n",
    "model = KerasClassifier(build_fn=create_model, epochs=10, batch_size=10, verbose=0)"
   ]
  },
  {
   "cell_type": "code",
   "execution_count": null,
   "id": "8b7d8e3b-7ea0-42cb-871d-75def6010370",
   "metadata": {},
   "outputs": [],
   "source": [
    "#if running again this clears old column\n",
    "if 'BIODEGRADATION_HALF_LIFE_DAYS_DAYS_CATEGORIES' in df.columns:\n",
    "    df= df.drop(labels='BIODEGRADATION_HALF_LIFE_DAYS_DAYS_CATEGORIES', axis=1)\n",
    "#add a new column to df for halflife category low (between 0 and 3.9), medium (greater than 3.9 up to 4.5), high (greater than 4.5 up to 9). \n",
    "category = pd.cut(df['BIODEGRADATION_HALF_LIFE_DAYS_DAYS_OPERA_PRED'], 3)\n",
    "df.insert(3,'BIODEGRADATION_HALF_LIFE_DAYS_DAYS_CATEGORIES',category)\n",
    "#df['BIODEGRADATION_HALF_LIFE_DAYS_DAYS_BINARY'] = np.where(df['BIODEGRADATION_HALF_LIFE_DAYS_DAYS_OPERA_PRED']>4.5, 1, 0)\n",
    "y= df['BIODEGRADATION_HALF_LIFE_DAYS_DAYS_CATEGORIES']\n",
    "#print(y)\n",
    "#Analyzes category distribution\n",
    "df['BIODEGRADATION_HALF_LIFE_DAYS_DAYS_CATEGORIES'].value_counts(normalize=True)"
   ]
  },
  {
   "cell_type": "code",
   "execution_count": null,
   "id": "f0454ecd-136b-4cb9-9960-72a693212124",
   "metadata": {},
   "outputs": [],
   "source": [
    "# Evaluate your model using 10-fold cross validation\n",
    "kfold = StratifiedKFold(n_splits=10, shuffle=True)\n",
    "results = cross_val_score(model, train_data, y, cv=kfold)"
   ]
  },
  {
   "cell_type": "code",
   "execution_count": null,
   "id": "b6c0f4fa-f5d0-4875-a751-d6bbe72069a6",
   "metadata": {},
   "outputs": [],
   "source": [
    "# Print the results\n",
    "print(f'10-fold cross validation scores:')\n",
    "for result in results: print('\\t', result.round(3))\n",
    "print('', f'mean: {results.mean().round(3)}', sep='\\n')"
   ]
  },
  {
   "cell_type": "code",
   "execution_count": null,
   "id": "458ca4c4-e955-44b0-b45a-e2915089ad52",
   "metadata": {},
   "outputs": [],
   "source": []
  }
 ],
 "metadata": {
  "kernelspec": {
   "display_name": "Python 3 (ipykernel)",
   "language": "python",
   "name": "python3"
  },
  "language_info": {
   "codemirror_mode": {
    "name": "ipython",
    "version": 3
   },
   "file_extension": ".py",
   "mimetype": "text/x-python",
   "name": "python",
   "nbconvert_exporter": "python",
   "pygments_lexer": "ipython3",
   "version": "3.7.11"
  }
 },
 "nbformat": 4,
 "nbformat_minor": 5
}
