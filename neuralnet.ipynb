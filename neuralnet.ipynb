{
 "cells": [
  {
   "cell_type": "code",
   "execution_count": 44,
   "id": "1460b5d3-8a24-4022-8f49-2d0f51405f46",
   "metadata": {},
   "outputs": [],
   "source": [
    "# packages used in this tutorial \n",
    "import numpy as np\n",
    "import pandas as pd\n",
    "import matplotlib.pyplot as plt\n",
    "\n",
    "import tensorflow as tf\n",
    "from tensorflow import keras\n",
    "from sklearn.model_selection import train_test_split\n",
    "from sklearn.preprocessing import StandardScaler"
   ]
  },
  {
   "cell_type": "code",
   "execution_count": 45,
   "id": "15d3822a",
   "metadata": {},
   "outputs": [],
   "source": [
    "# Load the CSV files into dataframes\n",
    "dataframes = {}\n",
    "keys = [str(i).zfill(2) for i in range(1, 13)] # strings '01' to '12'\n",
    "for key in keys:\n",
    "    df = pd.read_csv(f'CSVafterClean/{key}.csv')\n",
    "    dataframes[key] = df\n"
   ]
  },
  {
   "cell_type": "code",
   "execution_count": 43,
   "id": "14ae621e",
   "metadata": {},
   "outputs": [
    {
     "name": "stdout",
     "output_type": "stream",
     "text": [
      "Epoch 1/10\n",
      "2546/2546 [==============================] - 3s 898us/step - loss: 20.7679 - val_loss: 17.9575\n",
      "Epoch 2/10\n",
      "2546/2546 [==============================] - 2s 836us/step - loss: 17.0139 - val_loss: 15.9929\n",
      "Epoch 3/10\n",
      "2546/2546 [==============================] - 2s 867us/step - loss: 15.4077 - val_loss: 14.8974\n",
      "Epoch 4/10\n",
      "2546/2546 [==============================] - 2s 838us/step - loss: 14.2814 - val_loss: 13.8653\n",
      "Epoch 5/10\n",
      "2546/2546 [==============================] - 2s 801us/step - loss: 13.4850 - val_loss: 13.3501\n",
      "Epoch 6/10\n",
      "2546/2546 [==============================] - 2s 827us/step - loss: 12.7514 - val_loss: 12.3782\n",
      "Epoch 7/10\n",
      "2546/2546 [==============================] - 2s 804us/step - loss: 12.1037 - val_loss: 12.1190\n",
      "Epoch 8/10\n",
      "2546/2546 [==============================] - 2s 769us/step - loss: 11.5166 - val_loss: 11.5931\n",
      "Epoch 9/10\n",
      "2546/2546 [==============================] - 2s 804us/step - loss: 11.0828 - val_loss: 11.6144\n",
      "Epoch 10/10\n",
      "2546/2546 [==============================] - 2s 870us/step - loss: 10.6028 - val_loss: 10.7805\n",
      "637/637 [==============================] - 0s 600us/step - loss: 10.7805\n",
      "Mean Squared Error on Test Set: 10.780468940734863\n"
     ]
    }
   ],
   "source": [
    "# Assuming 'dataframes' is your dictionary of dataframes\n",
    "# Extract the 'prcp_total' column from each dataframe\n",
    "X = []  # Input features\n",
    "y = []  # Target variable\n",
    "\n",
    "for key, df in dataframes.items():\n",
    "     # Select all columns except 'lat', 'lon', 'time', and 'prcp_total', this mvp neural network model does not consider spatial or temporal aspects\n",
    "    features = df.loc[:, ~df.columns.isin(['lat', 'lon', 'time', 'prcp_total'])].values\n",
    "    X.append(features) #a list of arrays, where each array represents the features for one dataframe. These arrays have the same number of columns (features).\n",
    "    y.append(df['prcp_total'].values) #a list of 1D NumPy arrays, where each array represents the 'prcp_total' values (target variable) for one dataframe\n",
    "\n",
    "# Combine data from all dataframes\n",
    "X = np.vstack(X) #vertically stacks (concatenates) these arrays on top of each other, effectively combining into a single 2D NumPy array of input features.\n",
    "#where each row represents a data point (sample), and each column represents a feature.\n",
    "y = np.concatenate(y) # y becomes a 1D array of target data point values of the one target variable\n",
    "\n",
    "# Split data into training and testing sets\n",
    "X_train, X_test, y_train, y_test = train_test_split(X, y, test_size=0.2, random_state=42)\n",
    "\n",
    "# Standardize the input features (optional but often recommended)\n",
    "scaler = StandardScaler()\n",
    "X_train = scaler.fit_transform(X_train)\n",
    "X_test = scaler.transform(X_test)\n",
    "\n",
    "# Build your neural network model\n",
    "model = keras.Sequential([\n",
    "    keras.layers.Dense(64, activation='relu', input_shape=(X_train.shape[1],)),\n",
    "    keras.layers.Dense(32, activation='relu'),\n",
    "    keras.layers.Dense(1)  # Output layer with a single neuron for regression\n",
    "])\n",
    "\n",
    "# Compile the model\n",
    "model.compile(optimizer='adam', loss='mean_squared_error')\n",
    "\n",
    "# Train the model\n",
    "model.fit(X_train, y_train, epochs=10, batch_size=32, validation_data=(X_test, y_test))\n",
    "\n",
    "# Evaluate the model on the test set\n",
    "loss = model.evaluate(X_test, y_test)\n",
    "print(f\"Mean Squared Error on Test Set: {loss}\")\n"
   ]
  },
  {
   "cell_type": "code",
   "execution_count": 39,
   "id": "a8edd76f",
   "metadata": {},
   "outputs": [
    {
     "name": "stdout",
     "output_type": "stream",
     "text": [
      "Shape of y: (101835,), shape of X: (101835, 21)\n",
      "Number of features in X: 21\n",
      "Number of data points in X: 101835\n"
     ]
    }
   ],
   "source": [
    "#Shape Check\n",
    "print(f\"Shape of y: {y.shape}, shape of X: {X.shape}\")\n",
    "num_features = X.shape[1]\n",
    "print(f\"Number of features in X: {num_features}\")\n",
    "num_samples = X.shape[0]\n",
    "print(f\"Number of data points in X: {num_samples}\")"
   ]
  },
  {
   "cell_type": "code",
   "execution_count": 30,
   "id": "1f630965",
   "metadata": {},
   "outputs": [
    {
     "data": {
      "text/plain": [
       "array([[ 1.17601825,  1.46330442,  0.7429586 , ...,  0.84517666,\n",
       "         0.68569515,  0.97780313],\n",
       "       [ 1.28664622,  0.91368946,  1.53835749, ...,  0.6314709 ,\n",
       "         0.49434827,  0.68867771],\n",
       "       [-0.48153499, -0.51376216, -0.70567777, ...,  0.25542257,\n",
       "         0.20753991,  0.22248553],\n",
       "       ...,\n",
       "       [ 0.49112688, -0.02061638,  0.84900938, ..., -4.08400472,\n",
       "        -4.00849861, -3.96962024],\n",
       "       [-0.63295261, -1.30878615, -0.25395839, ..., -0.67956864,\n",
       "        -0.50887745, -0.6147075 ],\n",
       "       [-2.04781682, -2.36798131, -1.49133754, ...,  1.54144636,\n",
       "         1.46983182,  1.7540931 ]])"
      ]
     },
     "execution_count": 30,
     "metadata": {},
     "output_type": "execute_result"
    }
   ],
   "source": [
    "X_train"
   ]
  },
  {
   "cell_type": "code",
   "execution_count": 38,
   "id": "44b2ea4e",
   "metadata": {},
   "outputs": [
    {
     "data": {
      "text/plain": [
       "array([2.74420997e+00, 4.46081124e-03, 1.98121020e-03, ...,\n",
       "       2.71070460e-01, 1.26143777e+00, 2.39255380e-01])"
      ]
     },
     "execution_count": 38,
     "metadata": {},
     "output_type": "execute_result"
    }
   ],
   "source": [
    "y_train"
   ]
  },
  {
   "cell_type": "code",
   "execution_count": 19,
   "id": "6be09ea3-39e4-4c59-a8c9-8fd542fc3861",
   "metadata": {},
   "outputs": [
    {
     "name": "stdout",
     "output_type": "stream",
     "text": [
      "Model: \"sequential_2\"\n",
      "_________________________________________________________________\n",
      " Layer (type)                Output Shape              Param #   \n",
      "=================================================================\n",
      " dense_6 (Dense)             (None, 64)                1408      \n",
      "                                                                 \n",
      " dense_7 (Dense)             (None, 32)                2080      \n",
      "                                                                 \n",
      " dense_8 (Dense)             (None, 1)                 33        \n",
      "                                                                 \n",
      "=================================================================\n",
      "Total params: 3521 (13.75 KB)\n",
      "Trainable params: 3521 (13.75 KB)\n",
      "Non-trainable params: 0 (0.00 Byte)\n",
      "_________________________________________________________________\n"
     ]
    }
   ],
   "source": [
    "# show a summary of the data\n",
    "model.summary()"
   ]
  },
  {
   "cell_type": "code",
   "execution_count": 20,
   "id": "d07b98f7-7260-4ba8-85e5-1a88eb446a86",
   "metadata": {},
   "outputs": [],
   "source": [
    "# Display training progress by printing a single dot for each completed epoch\n",
    "class PrintDot(keras.callbacks.Callback):\n",
    "    def on_epoch_end(self, epoch, logs):\n",
    "        if epoch % 100 == 0: print('')\n",
    "        print('.', end='')\n",
    "        \n",
    "# Function to plot how the model is doing during training\n",
    "# Visualize the model's training progress using the stats stored in the history object. \n",
    "# We want to use this data to determine how long to train before the model stops making progress.\n",
    "def plot_history(history):\n",
    "    plt.figure()\n",
    "    plt.xlabel('Epoch')\n",
    "    plt.ylabel('Mean Abs Error [mm]')\n",
    "    plt.plot(history.epoch, np.array(history.history['loss']),\n",
    "           label='Train Loss')\n",
    "    plt.plot(history.epoch, np.array(history.history['val_loss']),\n",
    "           label = 'Val loss')\n",
    "    plt.legend()\n",
    "    #plt.ylim([0, 5])"
   ]
  },
  {
   "cell_type": "code",
   "execution_count": 21,
   "id": "f94de38e-efbd-4af0-a9d8-fbe87a2fe65e",
   "metadata": {},
   "outputs": [
    {
     "name": "stdout",
     "output_type": "stream",
     "text": [
      "\n",
      "....................................................................................................\n",
      "....................................................................................................\n",
      "........................"
     ]
    },
    {
     "data": {
      "image/png": "[encoded data removed]",
      "text/plain": [
       "<Figure size 640x480 with 1 Axes>"
      ]
     },
     "metadata": {},
     "output_type": "display_data"
    }
   ],
   "source": [
    "# If you train too long, you are prone to over-fitting\n",
    "# this prevents the model from generalizing to data it has never seen before\n",
    "# early stopping is one way to go about this\n",
    "# The patience parameter is the amount of epochs to check for improvement\n",
    "early_stop = keras.callbacks.EarlyStopping(monitor='val_loss', patience=20)\n",
    "\n",
    "# Store training stats\n",
    "history = model.fit(X_train, y_train, epochs=1000,\n",
    "                    validation_split=0.2, verbose=0,\n",
    "                    callbacks=[early_stop, PrintDot()])\n",
    "\n",
    "plot_history(history)"
   ]
  },
  {
   "cell_type": "code",
   "execution_count": 29,
   "id": "8c57b4e7-3c7e-4169-9453-8a6d5cf7d97a",
   "metadata": {},
   "outputs": [
    {
     "name": "stdout",
     "output_type": "stream",
     "text": [
      "637/637 [==============================] - 0s 628us/step\n",
      "Mean Absolute Error on Test Set: 1.1262069481053627 millimeters\n"
     ]
    }
   ],
   "source": [
    "# Calculate MAE separately\n",
    "from sklearn.metrics import mean_absolute_error\n",
    "y_pred = model.predict(X_test)\n",
    "mae = mean_absolute_error(y_test, y_pred)\n",
    "print(f\"Mean Absolute Error on Test Set: {mae} millimeters\")"
   ]
  },
  {
   "cell_type": "code",
   "execution_count": 24,
   "id": "80a1cf00-d273-4ab4-90c3-7f605d20053a",
   "metadata": {},
   "outputs": [
    {
     "name": "stdout",
     "output_type": "stream",
     "text": [
      "637/637 [==============================] - 0s 581us/step\n"
     ]
    },
    {
     "data": {
      "image/png": "[encoded data removed]",
      "text/plain": [
       "<Figure size 640x480 with 1 Axes>"
      ]
     },
     "metadata": {},
     "output_type": "display_data"
    }
   ],
   "source": [
    "test_predictions = model.predict(X_test).flatten()\n",
    "\n",
    "plt.scatter(y_test, test_predictions)\n",
    "plt.xlabel('True Values [mm]')\n",
    "plt.ylabel('Predictions [mm]')\n",
    "plt.axis('equal')\n",
    "plt.xlim(plt.xlim())\n",
    "plt.ylim(plt.ylim())\n",
    "_ = plt.plot([-100, 100], [-100, 100])"
   ]
  },
  {
   "cell_type": "code",
   "execution_count": 25,
   "id": "f96e83fd-fe3d-4979-bc43-be3269176bad",
   "metadata": {},
   "outputs": [
    {
     "data": {
      "text/plain": [
       "0.9211378742798222"
      ]
     },
     "execution_count": 25,
     "metadata": {},
     "output_type": "execute_result"
    }
   ],
   "source": [
    "np.corrcoef(y_test,test_predictions)[0,1]"
   ]
  },
  {
   "cell_type": "code",
   "execution_count": 26,
   "id": "f78d6338-397e-4ada-bef5-da4b4299af97",
   "metadata": {},
   "outputs": [
    {
     "data": {
      "text/plain": [
       "0.8484118981514638"
      ]
     },
     "execution_count": 26,
     "metadata": {},
     "output_type": "execute_result"
    }
   ],
   "source": [
    "from sklearn.metrics import r2_score\n",
    "r2_score(y_test,test_predictions)"
   ]
  },
  {
   "cell_type": "code",
   "execution_count": 27,
   "id": "563bd505-69f1-42fa-8829-cc2f9863c6a5",
   "metadata": {},
   "outputs": [
    {
     "data": {
      "image/png": "[encoded data removed]",
      "text/plain": [
       "<Figure size 640x480 with 1 Axes>"
      ]
     },
     "metadata": {},
     "output_type": "display_data"
    }
   ],
   "source": [
    "error = test_predictions - y_test\n",
    "plt.hist(error, bins = 50)\n",
    "plt.xlabel(\"Prediction Error [Days]\")\n",
    "_ = plt.ylabel(\"Count\")"
   ]
  },
  {
   "cell_type": "code",
   "execution_count": null,
   "id": "23a06cea-f012-477c-8910-97ff7af65639",
   "metadata": {},
   "outputs": [],
   "source": [
    "#ATTEMPT for hyperparameter optimization and cross validation, require keras classifier binary label?"
   ]
  },
  {
   "cell_type": "code",
   "execution_count": 13,
   "id": "e4c519d2-1800-4841-9ffd-3e8d6552b3f7",
   "metadata": {},
   "outputs": [],
   "source": [
    "from sklearn.model_selection import GridSearchCV"
   ]
  },
  {
   "cell_type": "code",
   "execution_count": 14,
   "id": "47ca74c3-38ce-4308-936f-0b8325f9fd29",
   "metadata": {},
   "outputs": [
    {
     "name": "stdout",
     "output_type": "stream",
     "text": [
      "{'batch_size': [10, 40, 80], 'epochs': [10, 50]}\n"
     ]
    }
   ],
   "source": [
    "# Step 3: Define the grid search parameters\n",
    "param_grid_1 = dict(batch_size=[10, 40, 80], epochs=[10, 50])\n",
    "print(param_grid_1)"
   ]
  },
  {
   "cell_type": "code",
   "execution_count": 15,
   "id": "35a73309-974c-45f5-aaeb-91c02395137d",
   "metadata": {},
   "outputs": [
    {
     "ename": "TypeError",
     "evalue": "If no scoring is specified, the estimator passed should have a 'score' method. The estimator <keras.engine.sequential.Sequential object at 0x7fa6671bb190> does not.",
     "output_type": "error",
     "traceback": [
      "\u001b[0;31m---------------------------------------------------------------------------\u001b[0m",
      "\u001b[0;31mTypeError\u001b[0m                                 Traceback (most recent call last)",
      "\u001b[0;32m/var/folders/jv/lz3tf5xn1vdbnrsqnz5bfz0r0000gn/T/ipykernel_1048/2948912329.py\u001b[0m in \u001b[0;36m<module>\u001b[0;34m\u001b[0m\n\u001b[1;32m      1\u001b[0m \u001b[0;31m# Step 4: Perform the grid search\u001b[0m\u001b[0;34m\u001b[0m\u001b[0;34m\u001b[0m\u001b[0;34m\u001b[0m\u001b[0m\n\u001b[1;32m      2\u001b[0m \u001b[0mgrid_1\u001b[0m \u001b[0;34m=\u001b[0m \u001b[0mGridSearchCV\u001b[0m\u001b[0;34m(\u001b[0m\u001b[0mestimator\u001b[0m\u001b[0;34m=\u001b[0m\u001b[0mmodel\u001b[0m\u001b[0;34m,\u001b[0m \u001b[0mparam_grid\u001b[0m\u001b[0;34m=\u001b[0m\u001b[0mparam_grid_1\u001b[0m\u001b[0;34m,\u001b[0m \u001b[0mn_jobs\u001b[0m\u001b[0;34m=\u001b[0m\u001b[0;36m1\u001b[0m\u001b[0;34m)\u001b[0m\u001b[0;34m\u001b[0m\u001b[0;34m\u001b[0m\u001b[0m\n\u001b[0;32m----> 3\u001b[0;31m \u001b[0mgrid_result_1\u001b[0m \u001b[0;34m=\u001b[0m \u001b[0mgrid_1\u001b[0m\u001b[0;34m.\u001b[0m\u001b[0mfit\u001b[0m\u001b[0;34m(\u001b[0m\u001b[0mtrain_data\u001b[0m\u001b[0;34m,\u001b[0m \u001b[0mtrain_labels\u001b[0m\u001b[0;34m)\u001b[0m\u001b[0;34m\u001b[0m\u001b[0;34m\u001b[0m\u001b[0m\n\u001b[0m",
      "\u001b[0;32m~/opt/anaconda3/envs/keras/lib/python3.7/site-packages/sklearn/utils/validation.py\u001b[0m in \u001b[0;36minner_f\u001b[0;34m(*args, **kwargs)\u001b[0m\n\u001b[1;32m     61\u001b[0m             \u001b[0mextra_args\u001b[0m \u001b[0;34m=\u001b[0m \u001b[0mlen\u001b[0m\u001b[0;34m(\u001b[0m\u001b[0margs\u001b[0m\u001b[0;34m)\u001b[0m \u001b[0;34m-\u001b[0m \u001b[0mlen\u001b[0m\u001b[0;34m(\u001b[0m\u001b[0mall_args\u001b[0m\u001b[0;34m)\u001b[0m\u001b[0;34m\u001b[0m\u001b[0;34m\u001b[0m\u001b[0m\n\u001b[1;32m     62\u001b[0m             \u001b[0;32mif\u001b[0m \u001b[0mextra_args\u001b[0m \u001b[0;34m<=\u001b[0m \u001b[0;36m0\u001b[0m\u001b[0;34m:\u001b[0m\u001b[0;34m\u001b[0m\u001b[0;34m\u001b[0m\u001b[0m\n\u001b[0;32m---> 63\u001b[0;31m                 \u001b[0;32mreturn\u001b[0m \u001b[0mf\u001b[0m\u001b[0;34m(\u001b[0m\u001b[0;34m*\u001b[0m\u001b[0margs\u001b[0m\u001b[0;34m,\u001b[0m \u001b[0;34m**\u001b[0m\u001b[0mkwargs\u001b[0m\u001b[0;34m)\u001b[0m\u001b[0;34m\u001b[0m\u001b[0;34m\u001b[0m\u001b[0m\n\u001b[0m\u001b[1;32m     64\u001b[0m \u001b[0;34m\u001b[0m\u001b[0m\n\u001b[1;32m     65\u001b[0m             \u001b[0;31m# extra_args > 0\u001b[0m\u001b[0;34m\u001b[0m\u001b[0;34m\u001b[0m\u001b[0;34m\u001b[0m\u001b[0m\n",
      "\u001b[0;32m~/opt/anaconda3/envs/keras/lib/python3.7/site-packages/sklearn/model_selection/_search.py\u001b[0m in \u001b[0;36mfit\u001b[0;34m(self, X, y, groups, **fit_params)\u001b[0m\n\u001b[1;32m    751\u001b[0m             \u001b[0mscorers\u001b[0m \u001b[0;34m=\u001b[0m \u001b[0mself\u001b[0m\u001b[0;34m.\u001b[0m\u001b[0mscoring\u001b[0m\u001b[0;34m\u001b[0m\u001b[0;34m\u001b[0m\u001b[0m\n\u001b[1;32m    752\u001b[0m         \u001b[0;32melif\u001b[0m \u001b[0mself\u001b[0m\u001b[0;34m.\u001b[0m\u001b[0mscoring\u001b[0m \u001b[0;32mis\u001b[0m \u001b[0;32mNone\u001b[0m \u001b[0;32mor\u001b[0m \u001b[0misinstance\u001b[0m\u001b[0;34m(\u001b[0m\u001b[0mself\u001b[0m\u001b[0;34m.\u001b[0m\u001b[0mscoring\u001b[0m\u001b[0;34m,\u001b[0m \u001b[0mstr\u001b[0m\u001b[0;34m)\u001b[0m\u001b[0;34m:\u001b[0m\u001b[0;34m\u001b[0m\u001b[0;34m\u001b[0m\u001b[0m\n\u001b[0;32m--> 753\u001b[0;31m             \u001b[0mscorers\u001b[0m \u001b[0;34m=\u001b[0m \u001b[0mcheck_scoring\u001b[0m\u001b[0;34m(\u001b[0m\u001b[0mself\u001b[0m\u001b[0;34m.\u001b[0m\u001b[0mestimator\u001b[0m\u001b[0;34m,\u001b[0m \u001b[0mself\u001b[0m\u001b[0;34m.\u001b[0m\u001b[0mscoring\u001b[0m\u001b[0;34m)\u001b[0m\u001b[0;34m\u001b[0m\u001b[0;34m\u001b[0m\u001b[0m\n\u001b[0m\u001b[1;32m    754\u001b[0m         \u001b[0;32melse\u001b[0m\u001b[0;34m:\u001b[0m\u001b[0;34m\u001b[0m\u001b[0;34m\u001b[0m\u001b[0m\n\u001b[1;32m    755\u001b[0m             \u001b[0mscorers\u001b[0m \u001b[0;34m=\u001b[0m \u001b[0m_check_multimetric_scoring\u001b[0m\u001b[0;34m(\u001b[0m\u001b[0mself\u001b[0m\u001b[0;34m.\u001b[0m\u001b[0mestimator\u001b[0m\u001b[0;34m,\u001b[0m \u001b[0mself\u001b[0m\u001b[0;34m.\u001b[0m\u001b[0mscoring\u001b[0m\u001b[0;34m)\u001b[0m\u001b[0;34m\u001b[0m\u001b[0;34m\u001b[0m\u001b[0m\n",
      "\u001b[0;32m~/opt/anaconda3/envs/keras/lib/python3.7/site-packages/sklearn/utils/validation.py\u001b[0m in \u001b[0;36minner_f\u001b[0;34m(*args, **kwargs)\u001b[0m\n\u001b[1;32m     61\u001b[0m             \u001b[0mextra_args\u001b[0m \u001b[0;34m=\u001b[0m \u001b[0mlen\u001b[0m\u001b[0;34m(\u001b[0m\u001b[0margs\u001b[0m\u001b[0;34m)\u001b[0m \u001b[0;34m-\u001b[0m \u001b[0mlen\u001b[0m\u001b[0;34m(\u001b[0m\u001b[0mall_args\u001b[0m\u001b[0;34m)\u001b[0m\u001b[0;34m\u001b[0m\u001b[0;34m\u001b[0m\u001b[0m\n\u001b[1;32m     62\u001b[0m             \u001b[0;32mif\u001b[0m \u001b[0mextra_args\u001b[0m \u001b[0;34m<=\u001b[0m \u001b[0;36m0\u001b[0m\u001b[0;34m:\u001b[0m\u001b[0;34m\u001b[0m\u001b[0;34m\u001b[0m\u001b[0m\n\u001b[0;32m---> 63\u001b[0;31m                 \u001b[0;32mreturn\u001b[0m \u001b[0mf\u001b[0m\u001b[0;34m(\u001b[0m\u001b[0;34m*\u001b[0m\u001b[0margs\u001b[0m\u001b[0;34m,\u001b[0m \u001b[0;34m**\u001b[0m\u001b[0mkwargs\u001b[0m\u001b[0;34m)\u001b[0m\u001b[0;34m\u001b[0m\u001b[0;34m\u001b[0m\u001b[0m\n\u001b[0m\u001b[1;32m     64\u001b[0m \u001b[0;34m\u001b[0m\u001b[0m\n\u001b[1;32m     65\u001b[0m             \u001b[0;31m# extra_args > 0\u001b[0m\u001b[0;34m\u001b[0m\u001b[0;34m\u001b[0m\u001b[0;34m\u001b[0m\u001b[0m\n",
      "\u001b[0;32m~/opt/anaconda3/envs/keras/lib/python3.7/site-packages/sklearn/metrics/_scorer.py\u001b[0m in \u001b[0;36mcheck_scoring\u001b[0;34m(estimator, scoring, allow_none)\u001b[0m\n\u001b[1;32m    451\u001b[0m                 \u001b[0;34m\"If no scoring is specified, the estimator passed should \"\u001b[0m\u001b[0;34m\u001b[0m\u001b[0;34m\u001b[0m\u001b[0m\n\u001b[1;32m    452\u001b[0m                 \u001b[0;34m\"have a 'score' method. The estimator %r does not.\"\u001b[0m\u001b[0;34m\u001b[0m\u001b[0;34m\u001b[0m\u001b[0m\n\u001b[0;32m--> 453\u001b[0;31m                 % estimator)\n\u001b[0m\u001b[1;32m    454\u001b[0m     \u001b[0;32melif\u001b[0m \u001b[0misinstance\u001b[0m\u001b[0;34m(\u001b[0m\u001b[0mscoring\u001b[0m\u001b[0;34m,\u001b[0m \u001b[0mIterable\u001b[0m\u001b[0;34m)\u001b[0m\u001b[0;34m:\u001b[0m\u001b[0;34m\u001b[0m\u001b[0;34m\u001b[0m\u001b[0m\n\u001b[1;32m    455\u001b[0m         raise ValueError(\"For evaluating multiple scores, use \"\n",
      "\u001b[0;31mTypeError\u001b[0m: If no scoring is specified, the estimator passed should have a 'score' method. The estimator <keras.engine.sequential.Sequential object at 0x7fa6671bb190> does not."
     ]
    }
   ],
   "source": [
    "# Step 4: Perform the grid search\n",
    "grid_1 = GridSearchCV(estimator=model, param_grid=param_grid_1, n_jobs=1)\n",
    "grid_result_1 = grid_1.fit(X_train, y_train)"
   ]
  },
  {
   "cell_type": "code",
   "execution_count": null,
   "id": "44b6aa91-a967-4ee7-a3da-ca15fca19bf0",
   "metadata": {},
   "outputs": [],
   "source": [
    "# Step 5: Summarize the results\n",
    "def summarize_results(grid_result):\n",
    "    means = grid_result.cv_results_['mean_test_score']\n",
    "    params = grid_result.cv_results_['params']\n",
    "    print('Results')\n",
    "    for mean, param in zip(means, params):\n",
    "        print(f'{param} -- {mean.round(3)}')\n",
    "    print('')\n",
    "    print(f'Best: {grid_result.best_score_.round(3)} using {grid_result.best_params_}')\n",
    "summarize_results(grid_result_1)"
   ]
  },
  {
   "cell_type": "code",
   "execution_count": null,
   "id": "207f4291-7142-468a-96c2-df1364345427",
   "metadata": {},
   "outputs": [],
   "source": [
    "from keras.models import Sequential\n",
    "from keras.layers import Dense\n",
    "from keras.wrappers.scikit_learn import KerasClassifier\n",
    "from sklearn.model_selection import StratifiedKFold\n",
    "from sklearn.model_selection import cross_val_score"
   ]
  },
  {
   "cell_type": "code",
   "execution_count": null,
   "id": "9a62b735-7dd2-481d-8e61-0bbe3488174f",
   "metadata": {},
   "outputs": [],
   "source": [
    "# Define your neural network model as a function\n",
    "def create_model():\n",
    "    model = Sequential()\n",
    "    model.add(Dense(12, input_dim=8, activation='relu'))\n",
    "    model.add(Dense(8, activation='relu'))\n",
    "    model.add(Dense(1, activation='sigmoid'))\n",
    "    model.compile(loss='binary_crossentropy', optimizer='adam', metrics=['accuracy'])\n",
    "    return model"
   ]
  },
  {
   "cell_type": "code",
   "execution_count": null,
   "id": "64f97a26-65b7-4630-a177-79292038e171",
   "metadata": {},
   "outputs": [],
   "source": [
    "# Create a KerasClassifier model using your model definition function as an argument\n",
    "model = KerasClassifier(build_fn=create_model, epochs=10, batch_size=10, verbose=0)"
   ]
  },
  {
   "cell_type": "code",
   "execution_count": null,
   "id": "8b7d8e3b-7ea0-42cb-871d-75def6010370",
   "metadata": {},
   "outputs": [],
   "source": [
    "#if running again this clears old column\n",
    "if 'BIODEGRADATION_HALF_LIFE_DAYS_DAYS_CATEGORIES' in df.columns:\n",
    "    df= df.drop(labels='BIODEGRADATION_HALF_LIFE_DAYS_DAYS_CATEGORIES', axis=1)\n",
    "#add a new column to df for halflife category low (between 0 and 3.9), medium (greater than 3.9 up to 4.5), high (greater than 4.5 up to 9). \n",
    "category = pd.cut(df['BIODEGRADATION_HALF_LIFE_DAYS_DAYS_OPERA_PRED'], 3)\n",
    "df.insert(3,'BIODEGRADATION_HALF_LIFE_DAYS_DAYS_CATEGORIES',category)\n",
    "#df['BIODEGRADATION_HALF_LIFE_DAYS_DAYS_BINARY'] = np.where(df['BIODEGRADATION_HALF_LIFE_DAYS_DAYS_OPERA_PRED']>4.5, 1, 0)\n",
    "y= df['BIODEGRADATION_HALF_LIFE_DAYS_DAYS_CATEGORIES']\n",
    "#print(y)\n",
    "#Analyzes category distribution\n",
    "df['BIODEGRADATION_HALF_LIFE_DAYS_DAYS_CATEGORIES'].value_counts(normalize=True)"
   ]
  },
  {
   "cell_type": "code",
   "execution_count": null,
   "id": "f0454ecd-136b-4cb9-9960-72a693212124",
   "metadata": {},
   "outputs": [],
   "source": [
    "# Evaluate your model using 10-fold cross validation\n",
    "kfold = StratifiedKFold(n_splits=10, shuffle=True)\n",
    "results = cross_val_score(model, train_data, y, cv=kfold)"
   ]
  },
  {
   "cell_type": "code",
   "execution_count": null,
   "id": "b6c0f4fa-f5d0-4875-a751-d6bbe72069a6",
   "metadata": {},
   "outputs": [],
   "source": [
    "# Print the results\n",
    "print(f'10-fold cross validation scores:')\n",
    "for result in results: print('\\t', result.round(3))\n",
    "print('', f'mean: {results.mean().round(3)}', sep='\\n')"
   ]
  },
  {
   "cell_type": "code",
   "execution_count": null,
   "id": "458ca4c4-e955-44b0-b45a-e2915089ad52",
   "metadata": {},
   "outputs": [],
   "source": []
  }
 ],
 "metadata": {
  "kernelspec": {
   "display_name": "Python 3.9.16 ('PakiMod')",
   "language": "python",
   "name": "python3"
  },
  "language_info": {
   "codemirror_mode": {
    "name": "ipython",
    "version": 3
   },
   "file_extension": ".py",
   "mimetype": "text/x-python",
   "name": "python",
   "nbconvert_exporter": "python",
   "pygments_lexer": "ipython3",
   "version": "3.9.16"
  },
  "vscode": {
   "interpreter": {
    "hash": "513d1eb246aa0bb77eaf9a413dcd9e8c27194e7e657a5c4589188365a8e391b9"
   }
  }
 },
 "nbformat": 4,
 "nbformat_minor": 5
}
